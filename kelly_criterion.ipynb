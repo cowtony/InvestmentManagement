{
 "cells": [
  {
   "cell_type": "markdown",
   "metadata": {},
   "source": [
    "# [Kelly Criterion](https://en.wikipedia.org/wiki/Kelly_criterion)\n",
    "## Win-Lose model\n",
    "Start with the simplest example: flipping a coin with either win or lose, which give you two different rate of return (probably 200% and 0%).\n",
    "\n",
    "Some notation we used for the following deduction:\n",
    "- $ p_{win} $: The probability of winning.\n",
    "- $ p_{lose} = 1 - p_{win} $: The probability of losing.\n",
    "- $ r_{win} $: Payout / rate of return when winning.\n",
    "- $ r_{lose} $: Payout / rate of return when losing (probably smaller than 1.0).\n",
    "- $ M_n $: Total asset / money after $ n^{th} $ game.\n",
    "- $ f $: (fraction) Our target percentage of investment, which is also the solution of the puzzle.\n",
    "\n",
    "Let's write the recursive formula of you money before and after $ n^{th} $ game assume we only put $ f $ portion of our money.\n",
    "- Win: $ M_n = M_{n-1} + M_{n-1} f r_{win} = M_{n-1} (1 + r_{win} f) $\n",
    "- Lose: $ M_n = M_{n-1} + M_{n-1} f r_{lose} = M_{n-1} (1 + r_{lose} f) $\n",
    "\n",
    "After $ n $ games, we will win $ np_{win} $ times and lose $ np_{lose} $ times. The final result will be:\n",
    "\n",
    "$ M_n = M_{0} (1 + r_{win} f)^{np_{win}} (1 + r_{lose} f)^{np_{lose}} $\n",
    "\n",
    "When playing $ \\infty $ games, the average return will be:\n",
    "\n",
    "$ \\lim\\limits_{n \\to \\infty} \\sqrt[n]{ \\frac{M_n}{M_0} } = (1 + r_{win} f)^{p_{win}} (1 + r_{lose} f)^{p_{lose}} $"
   ]
  },
  {
   "cell_type": "code",
   "execution_count": null,
   "metadata": {},
   "outputs": [],
   "source": []
  },
  {
   "cell_type": "markdown",
   "metadata": {},
   "source": [
    "We want the left-hand side to be maximum to provide us best rate of return per game, which means we need to let the first order derivative of right-hand side equal to 0.\n",
    "\n",
    "Take a $ \\ln{} $ to both side will make the calculation much easier:\n",
    "\n",
    "$ G(f) = \\lim\\limits_{n \\to \\infty} \\frac{1}{n} \\frac{M_n}{M_0} = p_{win} \\ln{(1 + r_{win} f)} + p_{lsoe} \\ln{(1 + r_{lose} f)} $\n",
    "\n",
    "$ G'(f) = \\frac{p_{win} r_{win}}{1 + r_{win} f} + \\frac{p_{lose} r_{lose}}{1 + r_{lose} f} = 0 $\n",
    "\n",
    "$ f = \\frac{p_{win} r_{win} + p_{lose} r_{lose}}{- r_{win} r_{lose}} $"
   ]
  },
  {
   "cell_type": "code",
   "execution_count": 2,
   "metadata": {},
   "outputs": [
    {
     "output_type": "stream",
     "name": "stdout",
     "text": "1\n"
    }
   ],
   "source": [
    "a = 1\n",
    "print(a)"
   ]
  },
  {
   "cell_type": "code",
   "execution_count": null,
   "metadata": {},
   "outputs": [],
   "source": []
  },
  {
   "cell_type": "markdown",
   "metadata": {},
   "source": [
    "#sadas\n",
    "`sd`\n",
    "- asd\n",
    "- asd\n"
   ]
  },
  {
   "cell_type": "code",
   "execution_count": null,
   "metadata": {},
   "outputs": [],
   "source": []
  }
 ],
 "metadata": {
  "language_info": {
   "codemirror_mode": {
    "name": "ipython",
    "version": 3
   },
   "file_extension": ".py",
   "mimetype": "text/x-python",
   "name": "python",
   "nbconvert_exporter": "python",
   "pygments_lexer": "ipython3",
   "version": "3.8.3-final"
  },
  "orig_nbformat": 2,
  "kernelspec": {
   "name": "python38364bitc8e48a119be54f1789e90ba690f21c00",
   "display_name": "Python 3.8.3 64-bit"
  }
 },
 "nbformat": 4,
 "nbformat_minor": 2
}